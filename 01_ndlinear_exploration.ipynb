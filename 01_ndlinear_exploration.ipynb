{
 "cells": [
  {
   "cell_type": "markdown",
   "metadata": {},
   "source": [
    "# Initial NdLinear Exploration"
   ]
  },
  {
   "cell_type": "code",
   "execution_count": null,
   "metadata": {},
   "outputs": [
    {
     "ename": "TypeError",
     "evalue": "NdLinear.__init__() missing 1 required positional argument: 'hidden_size'",
     "output_type": "error",
     "traceback": [
      "\u001b[31m---------------------------------------------------------------------------\u001b[39m",
      "\u001b[31mTypeError\u001b[39m                                 Traceback (most recent call last)",
      "\u001b[36mCell\u001b[39m\u001b[36m \u001b[39m\u001b[32mIn[4]\u001b[39m\u001b[32m, line 15\u001b[39m\n\u001b[32m     12\u001b[39m linear_output = linear(flattened)  \u001b[38;5;66;03m# Shape: [32, 1000]\u001b[39;00m\n\u001b[32m     14\u001b[39m \u001b[38;5;66;03m# NdLinear preserves the structure\u001b[39;00m\n\u001b[32m---> \u001b[39m\u001b[32m15\u001b[39m ndlinear = \u001b[43mNdLinear\u001b[49m\u001b[43m(\u001b[49m\u001b[43minput_dims\u001b[49m\u001b[43m=\u001b[49m\u001b[43m(\u001b[49m\u001b[32;43m3\u001b[39;49m\u001b[43m,\u001b[49m\u001b[43m \u001b[49m\u001b[32;43m224\u001b[39;49m\u001b[43m,\u001b[49m\u001b[43m \u001b[49m\u001b[32;43m224\u001b[39;49m\u001b[43m)\u001b[49m\u001b[43m)\u001b[49m\n\u001b[32m     16\u001b[39m ndlinear_output = ndlinear(input_tensor)  \u001b[38;5;66;03m# Shape: [32, 64, 16, 16]\u001b[39;00m\n\u001b[32m     18\u001b[39m \u001b[38;5;66;03m# Compare parameter counts\u001b[39;00m\n",
      "\u001b[31mTypeError\u001b[39m: NdLinear.__init__() missing 1 required positional argument: 'hidden_size'"
     ]
    }
   ],
   "source": [
    "# Import the NdLinear implementation\n",
    "from NdLinear.ndlinear import NdLinear\n",
    "import torch\n",
    "import torch.nn as nn\n",
    "\n",
    "# Create a simple example showing how NdLinear preserves structure\n",
    "input_tensor = torch.randn(32, 3, 224, 224)  # Batch x Channels x Height x Width\n",
    "\n",
    "# Standard approach flattens the tensor\n",
    "flattened = input_tensor.view(32, -1)  # Shape: [32, 150528]\n",
    "linear = nn.Linear(3*224*224, 1000)\n",
    "linear_output = linear(flattened)  # Shape: [32, 1000]\n",
    "\n",
    "# NdLinear preserves the structure\n",
    "ndlinear = NdLinear(input_dims=(3, 224, 224), hidden_size=(64, 16, 16))\n",
    "ndlinear_output = ndlinear(input_tensor)  # Shape: [32, 64, 16, 16]\n",
    "\n",
    "# Compare parameter counts\n",
    "print(f\"Linear parameters: {sum(p.numel() for p in linear.parameters())}\")\n",
    "print(f\"NdLinear parameters: {sum(p.numel() for p in ndlinear.parameters())}\")"
   ]
  },
  {
   "cell_type": "code",
   "execution_count": null,
   "metadata": {},
   "outputs": [
    {
     "ename": "ModuleNotFoundError",
     "evalue": "No module named 'ndlinear'",
     "output_type": "error",
     "traceback": [
      "\u001b[31m---------------------------------------------------------------------------\u001b[39m",
      "\u001b[31mModuleNotFoundError\u001b[39m                       Traceback (most recent call last)",
      "\u001b[36mCell\u001b[39m\u001b[36m \u001b[39m\u001b[32mIn[1]\u001b[39m\u001b[32m, line 1\u001b[39m\n\u001b[32m----> \u001b[39m\u001b[32m1\u001b[39m \u001b[38;5;28;01mfrom\u001b[39;00m\u001b[38;5;250m \u001b[39m\u001b[34;01mndlinear\u001b[39;00m\u001b[38;5;250m \u001b[39m\u001b[38;5;28;01mimport\u001b[39;00m NdLinear\n\u001b[32m      2\u001b[39m \u001b[38;5;28;01mimport\u001b[39;00m\u001b[38;5;250m \u001b[39m\u001b[34;01mtorch\u001b[39;00m\n\u001b[32m      3\u001b[39m \u001b[38;5;28;01mimport\u001b[39;00m\u001b[38;5;250m \u001b[39m\u001b[34;01mtorch\u001b[39;00m\u001b[34;01m.\u001b[39;00m\u001b[34;01mnn\u001b[39;00m\u001b[38;5;250m \u001b[39m\u001b[38;5;28;01mas\u001b[39;00m\u001b[38;5;250m \u001b[39m\u001b[34;01mnn\u001b[39;00m\n",
      "\u001b[31mModuleNotFoundError\u001b[39m: No module named 'ndlinear'"
     ]
    }
   ],
   "source": [
    "from ndlinear import NdLinear\n",
    "import torch\n",
    "import torch.nn as nn\n",
    "\n",
    "\n",
    "# Create sample data with multidimensional structure (like an image)\n",
    "batch_size = 2\n",
    "channels = 3\n",
    "height = 32\n",
    "width = 32\n",
    "\n",
    "# Create a random tensor with image-like structure\n",
    "x = torch.randn(batch_size, channels, height, width)\n",
    "print(f\"Input shape: {x.shape}\")\n",
    "\n",
    "# Create a standard linear layer (requires flattening)\n",
    "flat_features = channels * height * width\n",
    "linear_layer = nn.Linear(flat_features, 10)\n",
    "\n",
    "# Apply standard linear layer (requires flattening first)\n",
    "x_flat = x.view(batch_size, -1)\n",
    "linear_output = linear_layer(x_flat)\n",
    "print(f\"Linear layer output shape: {linear_output.shape}\")\n",
    "print(f\"Linear layer parameters: {sum(p.numel() for p in linear_layer.parameters())}\")\n",
    "\n",
    "# Create an NdLinear layer preserving structure\n",
    "ndlinear_layer = NdLinear(\n",
    "    dims=[channels, height, width],  # Input dimensions \n",
    "    output_dims=[10, 1, 1]  # Output dimensions (10 classes, collapsed spatial dims)\n",
    ")\n",
    "\n",
    "# Apply NdLinear directly to structured input\n",
    "ndlinear_output = ndlinear_layer(x)\n",
    "print(f\"NdLinear layer output shape: {ndlinear_output.shape}\")\n",
    "print(f\"NdLinear layer parameters: {sum(p.numel() for p in ndlinear_layer.parameters())}\")\n",
    "\n"
   ]
  },
  {
   "cell_type": "markdown",
   "metadata": {},
   "source": []
  }
 ],
 "metadata": {
  "kernelspec": {
   "display_name": "ndenv",
   "language": "python",
   "name": "python3"
  },
  "language_info": {
   "codemirror_mode": {
    "name": "ipython",
    "version": 3
   },
   "file_extension": ".py",
   "mimetype": "text/x-python",
   "name": "python",
   "nbconvert_exporter": "python",
   "pygments_lexer": "ipython3",
   "version": "3.13.2"
  }
 },
 "nbformat": 4,
 "nbformat_minor": 2
}
